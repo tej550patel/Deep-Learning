{
 "cells": [
  {
   "cell_type": "code",
   "execution_count": 1,
   "metadata": {},
   "outputs": [],
   "source": [
    "#Importing the ibraries\n",
    "import pandas as pd\n",
    "import numpy as np\n",
    "import matplotlib.pyplot as plt"
   ]
  },
  {
   "cell_type": "code",
   "execution_count": 2,
   "metadata": {},
   "outputs": [],
   "source": [
    "#Importing the dataset\n",
    "dataset = pd.read_csv('Churn_Modelling.csv')\n",
    "X = dataset.iloc[:, 3:13]\n",
    "y = dataset.iloc[:, 13]"
   ]
  },
  {
   "cell_type": "code",
   "execution_count": 3,
   "metadata": {},
   "outputs": [],
   "source": [
    "#Create dummy variables\n",
    "geography = pd.get_dummies(X['Geography'], drop_first=True)\n",
    "gender = pd.get_dummies(X['Gender'], drop_first=True)"
   ]
  },
  {
   "cell_type": "code",
   "execution_count": 4,
   "metadata": {},
   "outputs": [],
   "source": [
    "#Concatenate the dataframes\n",
    "X = pd.concat([X, geography, gender], axis=1)"
   ]
  },
  {
   "cell_type": "code",
   "execution_count": 5,
   "metadata": {},
   "outputs": [],
   "source": [
    "#Drop unnecessary columns\n",
    "X = X.drop(['Geography', 'Gender'], axis=1)"
   ]
  },
  {
   "cell_type": "code",
   "execution_count": 6,
   "metadata": {},
   "outputs": [],
   "source": [
    "#Splitting the data into train and test\n",
    "from sklearn.model_selection import train_test_split\n",
    "X_train, X_test, y_train, y_test = train_test_split(X, y, test_size = 0.2, random_state = 0)"
   ]
  },
  {
   "cell_type": "code",
   "execution_count": 7,
   "metadata": {},
   "outputs": [],
   "source": [
    "#Feature scaling\n",
    "from sklearn.preprocessing import StandardScaler\n",
    "sc = StandardScaler()\n",
    "X_train = sc.fit_transform(X_train)\n",
    "X_test = sc.transform(X_test)"
   ]
  },
  {
   "cell_type": "code",
   "execution_count": 8,
   "metadata": {},
   "outputs": [],
   "source": [
    "#Importing keras libraries and packages\n",
    "import keras\n",
    "from keras.models import Sequential\n",
    "from keras.layers import Dense\n",
    "from keras.layers import Dropout"
   ]
  },
  {
   "cell_type": "code",
   "execution_count": 9,
   "metadata": {},
   "outputs": [],
   "source": [
    "#Initialising the ANN\n",
    "classifier = Sequential()"
   ]
  },
  {
   "cell_type": "code",
   "execution_count": 10,
   "metadata": {},
   "outputs": [],
   "source": [
    "#Adding the input layer and the first hidden layer\n",
    "classifier.add(Dense(units=6, kernel_initializer='he_uniform', activation='relu', input_dim=11))"
   ]
  },
  {
   "cell_type": "code",
   "execution_count": 11,
   "metadata": {},
   "outputs": [],
   "source": [
    "#Adding second hidden layer\n",
    "classifier.add(Dense(units=6, kernel_initializer='he_uniform', activation='relu'))"
   ]
  },
  {
   "cell_type": "code",
   "execution_count": 12,
   "metadata": {},
   "outputs": [],
   "source": [
    "#Adding the output layer\n",
    "classifier.add(Dense(units=1, kernel_initializer='glorot_uniform', activation='sigmoid'))"
   ]
  },
  {
   "cell_type": "code",
   "execution_count": 13,
   "metadata": {},
   "outputs": [],
   "source": [
    "#Compiling the ANN\n",
    "classifier.compile(optimizer='Adamax', loss='binary_crossentropy', metrics=['accuracy'])"
   ]
  },
  {
   "cell_type": "code",
   "execution_count": 14,
   "metadata": {},
   "outputs": [
    {
     "name": "stdout",
     "output_type": "stream",
     "text": [
      "Model: \"sequential\"\n",
      "_________________________________________________________________\n",
      "Layer (type)                 Output Shape              Param #   \n",
      "=================================================================\n",
      "dense (Dense)                (None, 6)                 72        \n",
      "_________________________________________________________________\n",
      "dense_1 (Dense)              (None, 6)                 42        \n",
      "_________________________________________________________________\n",
      "dense_2 (Dense)              (None, 1)                 7         \n",
      "=================================================================\n",
      "Total params: 121\n",
      "Trainable params: 121\n",
      "Non-trainable params: 0\n",
      "_________________________________________________________________\n"
     ]
    }
   ],
   "source": [
    "classifier.summary()"
   ]
  },
  {
   "cell_type": "code",
   "execution_count": 15,
   "metadata": {},
   "outputs": [
    {
     "name": "stdout",
     "output_type": "stream",
     "text": [
      "Epoch 1/100\n",
      "536/536 [==============================] - 2s 2ms/step - loss: 0.8976 - accuracy: 0.4409 - val_loss: 0.6407 - val_accuracy: 0.6622\n",
      "Epoch 2/100\n",
      "536/536 [==============================] - 1s 3ms/step - loss: 0.5610 - accuracy: 0.7384 - val_loss: 0.5161 - val_accuracy: 0.7846\n",
      "Epoch 3/100\n",
      "536/536 [==============================] - 1s 1ms/step - loss: 0.4955 - accuracy: 0.7942 - val_loss: 0.4891 - val_accuracy: 0.7940\n",
      "Epoch 4/100\n",
      "536/536 [==============================] - 1s 2ms/step - loss: 0.4769 - accuracy: 0.7981 - val_loss: 0.4762 - val_accuracy: 0.7952\n",
      "Epoch 5/100\n",
      "536/536 [==============================] - 1s 1ms/step - loss: 0.4657 - accuracy: 0.7994 - val_loss: 0.4667 - val_accuracy: 0.7963\n",
      "Epoch 6/100\n",
      "536/536 [==============================] - 1s 1ms/step - loss: 0.4565 - accuracy: 0.8016 - val_loss: 0.4588 - val_accuracy: 0.8027\n",
      "Epoch 7/100\n",
      "536/536 [==============================] - 1s 1ms/step - loss: 0.4488 - accuracy: 0.8050 - val_loss: 0.4523 - val_accuracy: 0.8046\n",
      "Epoch 8/100\n",
      "536/536 [==============================] - 1s 1ms/step - loss: 0.4424 - accuracy: 0.8087 - val_loss: 0.4465 - val_accuracy: 0.8065\n",
      "Epoch 9/100\n",
      "536/536 [==============================] - 1s 1ms/step - loss: 0.4371 - accuracy: 0.8113 - val_loss: 0.4422 - val_accuracy: 0.8088\n",
      "Epoch 10/100\n",
      "536/536 [==============================] - 1s 1ms/step - loss: 0.4330 - accuracy: 0.8138 - val_loss: 0.4384 - val_accuracy: 0.8107\n",
      "Epoch 11/100\n",
      "536/536 [==============================] - 1s 1ms/step - loss: 0.4296 - accuracy: 0.8160 - val_loss: 0.4358 - val_accuracy: 0.8133\n",
      "Epoch 12/100\n",
      "536/536 [==============================] - 1s 1ms/step - loss: 0.4269 - accuracy: 0.8145 - val_loss: 0.4335 - val_accuracy: 0.8148\n",
      "Epoch 13/100\n",
      "536/536 [==============================] - 1s 1ms/step - loss: 0.4244 - accuracy: 0.8166 - val_loss: 0.4317 - val_accuracy: 0.8122\n",
      "Epoch 14/100\n",
      "536/536 [==============================] - 1s 1ms/step - loss: 0.4222 - accuracy: 0.8173 - val_loss: 0.4302 - val_accuracy: 0.8122\n",
      "Epoch 15/100\n",
      "536/536 [==============================] - 1s 1ms/step - loss: 0.4202 - accuracy: 0.8188 - val_loss: 0.4288 - val_accuracy: 0.8133\n",
      "Epoch 16/100\n",
      "536/536 [==============================] - 1s 2ms/step - loss: 0.4184 - accuracy: 0.8207 - val_loss: 0.4273 - val_accuracy: 0.8148\n",
      "Epoch 17/100\n",
      "536/536 [==============================] - 1s 1ms/step - loss: 0.4163 - accuracy: 0.8220 - val_loss: 0.4260 - val_accuracy: 0.8167\n",
      "Epoch 18/100\n",
      "536/536 [==============================] - 2s 3ms/step - loss: 0.4144 - accuracy: 0.8233 - val_loss: 0.4247 - val_accuracy: 0.8164\n",
      "Epoch 19/100\n",
      "536/536 [==============================] - 1s 2ms/step - loss: 0.4123 - accuracy: 0.8240 - val_loss: 0.4232 - val_accuracy: 0.8179\n",
      "Epoch 20/100\n",
      "536/536 [==============================] - 1s 2ms/step - loss: 0.4106 - accuracy: 0.8261 - val_loss: 0.4221 - val_accuracy: 0.8190\n",
      "Epoch 21/100\n",
      "536/536 [==============================] - 1s 1ms/step - loss: 0.4087 - accuracy: 0.8261 - val_loss: 0.4210 - val_accuracy: 0.8186\n",
      "Epoch 22/100\n",
      "536/536 [==============================] - 1s 1ms/step - loss: 0.4070 - accuracy: 0.8259 - val_loss: 0.4199 - val_accuracy: 0.8194\n",
      "Epoch 23/100\n",
      "536/536 [==============================] - 1s 1ms/step - loss: 0.4054 - accuracy: 0.8270 - val_loss: 0.4188 - val_accuracy: 0.8220\n",
      "Epoch 24/100\n",
      "536/536 [==============================] - 1s 1ms/step - loss: 0.4037 - accuracy: 0.8280 - val_loss: 0.4177 - val_accuracy: 0.8232\n",
      "Epoch 25/100\n",
      "536/536 [==============================] - 1s 1ms/step - loss: 0.4018 - accuracy: 0.8287 - val_loss: 0.4166 - val_accuracy: 0.8251\n",
      "Epoch 26/100\n",
      "536/536 [==============================] - 1s 1ms/step - loss: 0.3997 - accuracy: 0.8287 - val_loss: 0.4156 - val_accuracy: 0.8258\n",
      "Epoch 27/100\n",
      "536/536 [==============================] - 1s 1ms/step - loss: 0.3977 - accuracy: 0.8302 - val_loss: 0.4143 - val_accuracy: 0.8262\n",
      "Epoch 28/100\n",
      "536/536 [==============================] - 1s 1ms/step - loss: 0.3958 - accuracy: 0.8311 - val_loss: 0.4131 - val_accuracy: 0.8273\n",
      "Epoch 29/100\n",
      "536/536 [==============================] - 1s 1ms/step - loss: 0.3940 - accuracy: 0.8321 - val_loss: 0.4120 - val_accuracy: 0.8243\n",
      "Epoch 30/100\n",
      "536/536 [==============================] - 1s 1ms/step - loss: 0.3922 - accuracy: 0.8326 - val_loss: 0.4107 - val_accuracy: 0.8277\n",
      "Epoch 31/100\n",
      "536/536 [==============================] - 1s 1ms/step - loss: 0.3908 - accuracy: 0.8337 - val_loss: 0.4098 - val_accuracy: 0.8247\n",
      "Epoch 32/100\n",
      "536/536 [==============================] - 1s 1ms/step - loss: 0.3892 - accuracy: 0.8345 - val_loss: 0.4088 - val_accuracy: 0.8243\n",
      "Epoch 33/100\n",
      "536/536 [==============================] - 1s 1ms/step - loss: 0.3877 - accuracy: 0.8343 - val_loss: 0.4080 - val_accuracy: 0.8258\n",
      "Epoch 34/100\n",
      "536/536 [==============================] - 1s 1ms/step - loss: 0.3863 - accuracy: 0.8364 - val_loss: 0.4066 - val_accuracy: 0.8281\n",
      "Epoch 35/100\n",
      "536/536 [==============================] - 1s 1ms/step - loss: 0.3848 - accuracy: 0.8367 - val_loss: 0.4058 - val_accuracy: 0.8270\n",
      "Epoch 36/100\n",
      "536/536 [==============================] - 1s 1ms/step - loss: 0.3834 - accuracy: 0.8391 - val_loss: 0.4044 - val_accuracy: 0.8285\n",
      "Epoch 37/100\n",
      "536/536 [==============================] - 1s 1ms/step - loss: 0.3821 - accuracy: 0.8395 - val_loss: 0.4030 - val_accuracy: 0.8296\n",
      "Epoch 38/100\n",
      "536/536 [==============================] - 1s 1ms/step - loss: 0.3808 - accuracy: 0.8395 - val_loss: 0.4021 - val_accuracy: 0.8300\n",
      "Epoch 39/100\n",
      "536/536 [==============================] - 1s 1ms/step - loss: 0.3796 - accuracy: 0.8401 - val_loss: 0.4008 - val_accuracy: 0.8323\n",
      "Epoch 40/100\n",
      "536/536 [==============================] - 1s 1ms/step - loss: 0.3783 - accuracy: 0.8405 - val_loss: 0.3999 - val_accuracy: 0.8315\n",
      "Epoch 41/100\n",
      "536/536 [==============================] - 1s 1ms/step - loss: 0.3771 - accuracy: 0.8412 - val_loss: 0.3988 - val_accuracy: 0.8323\n",
      "Epoch 42/100\n",
      "536/536 [==============================] - 1s 1ms/step - loss: 0.3758 - accuracy: 0.8414 - val_loss: 0.3977 - val_accuracy: 0.8330\n",
      "Epoch 43/100\n",
      "536/536 [==============================] - 1s 1ms/step - loss: 0.3745 - accuracy: 0.8414 - val_loss: 0.3967 - val_accuracy: 0.8349\n",
      "Epoch 44/100\n",
      "536/536 [==============================] - 1s 1000us/step - loss: 0.3732 - accuracy: 0.8421 - val_loss: 0.3958 - val_accuracy: 0.8315\n",
      "Epoch 45/100\n",
      "536/536 [==============================] - 1s 1ms/step - loss: 0.3717 - accuracy: 0.8419 - val_loss: 0.3948 - val_accuracy: 0.8330\n",
      "Epoch 46/100\n",
      "536/536 [==============================] - 1s 1ms/step - loss: 0.3704 - accuracy: 0.8433 - val_loss: 0.3936 - val_accuracy: 0.8345\n",
      "Epoch 47/100\n",
      "536/536 [==============================] - 1s 1ms/step - loss: 0.3691 - accuracy: 0.8425 - val_loss: 0.3931 - val_accuracy: 0.8330\n",
      "Epoch 48/100\n",
      "536/536 [==============================] - 1s 1ms/step - loss: 0.3681 - accuracy: 0.8438 - val_loss: 0.3920 - val_accuracy: 0.8338\n",
      "Epoch 49/100\n",
      "536/536 [==============================] - 1s 1ms/step - loss: 0.3666 - accuracy: 0.8474 - val_loss: 0.3913 - val_accuracy: 0.8342\n",
      "Epoch 50/100\n",
      "536/536 [==============================] - 1s 1ms/step - loss: 0.3652 - accuracy: 0.8464 - val_loss: 0.3897 - val_accuracy: 0.8357\n",
      "Epoch 51/100\n",
      "536/536 [==============================] - 1s 1ms/step - loss: 0.3642 - accuracy: 0.8470 - val_loss: 0.3891 - val_accuracy: 0.8349\n",
      "Epoch 52/100\n",
      "536/536 [==============================] - 1s 1ms/step - loss: 0.3628 - accuracy: 0.8483 - val_loss: 0.3883 - val_accuracy: 0.8349\n",
      "Epoch 53/100\n",
      "536/536 [==============================] - 1s 997us/step - loss: 0.3617 - accuracy: 0.8487 - val_loss: 0.3873 - val_accuracy: 0.8342\n",
      "Epoch 54/100\n",
      "536/536 [==============================] - 1s 1ms/step - loss: 0.3606 - accuracy: 0.8489 - val_loss: 0.3863 - val_accuracy: 0.8345\n",
      "Epoch 55/100\n",
      "536/536 [==============================] - 1s 1ms/step - loss: 0.3594 - accuracy: 0.8489 - val_loss: 0.3850 - val_accuracy: 0.8357\n",
      "Epoch 56/100\n",
      "536/536 [==============================] - 1s 1ms/step - loss: 0.3582 - accuracy: 0.8502 - val_loss: 0.3842 - val_accuracy: 0.8357\n",
      "Epoch 57/100\n",
      "536/536 [==============================] - 1s 2ms/step - loss: 0.3572 - accuracy: 0.8498 - val_loss: 0.3834 - val_accuracy: 0.8353\n",
      "Epoch 58/100\n",
      "536/536 [==============================] - 1s 1ms/step - loss: 0.3561 - accuracy: 0.8500 - val_loss: 0.3825 - val_accuracy: 0.8372\n",
      "Epoch 59/100\n",
      "536/536 [==============================] - 1s 1ms/step - loss: 0.3550 - accuracy: 0.8520 - val_loss: 0.3815 - val_accuracy: 0.8360\n",
      "Epoch 60/100\n",
      "536/536 [==============================] - 1s 2ms/step - loss: 0.3539 - accuracy: 0.8517 - val_loss: 0.3804 - val_accuracy: 0.8364\n",
      "Epoch 61/100\n",
      "536/536 [==============================] - 1s 1ms/step - loss: 0.3530 - accuracy: 0.8528 - val_loss: 0.3797 - val_accuracy: 0.8357\n",
      "Epoch 62/100\n",
      "536/536 [==============================] - 1s 1ms/step - loss: 0.3521 - accuracy: 0.8522 - val_loss: 0.3788 - val_accuracy: 0.8379\n",
      "Epoch 63/100\n",
      "536/536 [==============================] - 1s 1ms/step - loss: 0.3514 - accuracy: 0.8541 - val_loss: 0.3781 - val_accuracy: 0.8372\n",
      "Epoch 64/100\n",
      "536/536 [==============================] - 1s 1ms/step - loss: 0.3506 - accuracy: 0.8543 - val_loss: 0.3775 - val_accuracy: 0.8387\n",
      "Epoch 65/100\n",
      "536/536 [==============================] - 1s 1ms/step - loss: 0.3498 - accuracy: 0.8531 - val_loss: 0.3766 - val_accuracy: 0.8402\n",
      "Epoch 66/100\n",
      "536/536 [==============================] - 1s 2ms/step - loss: 0.3490 - accuracy: 0.8546 - val_loss: 0.3762 - val_accuracy: 0.8379\n",
      "Epoch 67/100\n",
      "536/536 [==============================] - 1s 2ms/step - loss: 0.3484 - accuracy: 0.8546 - val_loss: 0.3755 - val_accuracy: 0.8383\n",
      "Epoch 68/100\n",
      "536/536 [==============================] - 1s 1ms/step - loss: 0.3477 - accuracy: 0.8533 - val_loss: 0.3747 - val_accuracy: 0.8410\n",
      "Epoch 69/100\n",
      "536/536 [==============================] - 1s 1ms/step - loss: 0.3471 - accuracy: 0.8537 - val_loss: 0.3740 - val_accuracy: 0.8410\n",
      "Epoch 70/100\n",
      "536/536 [==============================] - 1s 1ms/step - loss: 0.3463 - accuracy: 0.8563 - val_loss: 0.3738 - val_accuracy: 0.8398\n",
      "Epoch 71/100\n",
      "536/536 [==============================] - 1s 1ms/step - loss: 0.3459 - accuracy: 0.8552 - val_loss: 0.3730 - val_accuracy: 0.8413\n",
      "Epoch 72/100\n",
      "536/536 [==============================] - 1s 1ms/step - loss: 0.3453 - accuracy: 0.8558 - val_loss: 0.3727 - val_accuracy: 0.8402\n",
      "Epoch 73/100\n",
      "536/536 [==============================] - 1s 1ms/step - loss: 0.3448 - accuracy: 0.8558 - val_loss: 0.3727 - val_accuracy: 0.8398\n",
      "Epoch 74/100\n",
      "536/536 [==============================] - 1s 1ms/step - loss: 0.3443 - accuracy: 0.8558 - val_loss: 0.3714 - val_accuracy: 0.8436\n",
      "Epoch 75/100\n",
      "536/536 [==============================] - 1s 1ms/step - loss: 0.3435 - accuracy: 0.8569 - val_loss: 0.3718 - val_accuracy: 0.8429\n",
      "Epoch 76/100\n",
      "536/536 [==============================] - 1s 1ms/step - loss: 0.3432 - accuracy: 0.8565 - val_loss: 0.3710 - val_accuracy: 0.8440\n",
      "Epoch 77/100\n",
      "536/536 [==============================] - 1s 1ms/step - loss: 0.3426 - accuracy: 0.8571 - val_loss: 0.3708 - val_accuracy: 0.8451\n",
      "Epoch 78/100\n",
      "536/536 [==============================] - 1s 1ms/step - loss: 0.3422 - accuracy: 0.8580 - val_loss: 0.3703 - val_accuracy: 0.8436\n",
      "Epoch 79/100\n",
      "536/536 [==============================] - 1s 1ms/step - loss: 0.3417 - accuracy: 0.8576 - val_loss: 0.3701 - val_accuracy: 0.8436\n",
      "Epoch 80/100\n",
      "536/536 [==============================] - 1s 1ms/step - loss: 0.3412 - accuracy: 0.8565 - val_loss: 0.3697 - val_accuracy: 0.8436\n",
      "Epoch 81/100\n",
      "536/536 [==============================] - 1s 1ms/step - loss: 0.3408 - accuracy: 0.8561 - val_loss: 0.3693 - val_accuracy: 0.8440\n",
      "Epoch 82/100\n",
      "536/536 [==============================] - 1s 1ms/step - loss: 0.3403 - accuracy: 0.8572 - val_loss: 0.3689 - val_accuracy: 0.8466\n",
      "Epoch 83/100\n",
      "536/536 [==============================] - 1s 1ms/step - loss: 0.3399 - accuracy: 0.8563 - val_loss: 0.3686 - val_accuracy: 0.8459\n",
      "Epoch 84/100\n",
      "536/536 [==============================] - 1s 1ms/step - loss: 0.3394 - accuracy: 0.8563 - val_loss: 0.3681 - val_accuracy: 0.8478\n",
      "Epoch 85/100\n",
      "536/536 [==============================] - 1s 1ms/step - loss: 0.3390 - accuracy: 0.8578 - val_loss: 0.3682 - val_accuracy: 0.8448\n",
      "Epoch 86/100\n",
      "536/536 [==============================] - 1s 1ms/step - loss: 0.3389 - accuracy: 0.8576 - val_loss: 0.3678 - val_accuracy: 0.8482\n",
      "Epoch 87/100\n",
      "536/536 [==============================] - 1s 1ms/step - loss: 0.3384 - accuracy: 0.8597 - val_loss: 0.3675 - val_accuracy: 0.8474\n",
      "Epoch 88/100\n",
      "536/536 [==============================] - 1s 2ms/step - loss: 0.3382 - accuracy: 0.8582 - val_loss: 0.3673 - val_accuracy: 0.8455\n",
      "Epoch 89/100\n",
      "536/536 [==============================] - 1s 2ms/step - loss: 0.3378 - accuracy: 0.8595 - val_loss: 0.3667 - val_accuracy: 0.8485\n",
      "Epoch 90/100\n",
      "536/536 [==============================] - 1s 1ms/step - loss: 0.3375 - accuracy: 0.8589 - val_loss: 0.3665 - val_accuracy: 0.8470\n",
      "Epoch 91/100\n",
      "536/536 [==============================] - 1s 1ms/step - loss: 0.3372 - accuracy: 0.8580 - val_loss: 0.3663 - val_accuracy: 0.8455\n",
      "Epoch 92/100\n",
      "536/536 [==============================] - 1s 1ms/step - loss: 0.3370 - accuracy: 0.8584 - val_loss: 0.3659 - val_accuracy: 0.8470\n",
      "Epoch 93/100\n",
      "536/536 [==============================] - 1s 1ms/step - loss: 0.3366 - accuracy: 0.8589 - val_loss: 0.3658 - val_accuracy: 0.8474\n",
      "Epoch 94/100\n",
      "536/536 [==============================] - 1s 1ms/step - loss: 0.3364 - accuracy: 0.8584 - val_loss: 0.3653 - val_accuracy: 0.8470\n",
      "Epoch 95/100\n",
      "536/536 [==============================] - 1s 1ms/step - loss: 0.3361 - accuracy: 0.8597 - val_loss: 0.3648 - val_accuracy: 0.8485\n",
      "Epoch 96/100\n",
      "536/536 [==============================] - 1s 1ms/step - loss: 0.3358 - accuracy: 0.8587 - val_loss: 0.3646 - val_accuracy: 0.8482\n",
      "Epoch 97/100\n",
      "536/536 [==============================] - 1s 1ms/step - loss: 0.3353 - accuracy: 0.8582 - val_loss: 0.3648 - val_accuracy: 0.8466\n",
      "Epoch 98/100\n",
      "536/536 [==============================] - 1s 1ms/step - loss: 0.3351 - accuracy: 0.8591 - val_loss: 0.3644 - val_accuracy: 0.8485\n",
      "Epoch 99/100\n",
      "536/536 [==============================] - 1s 1ms/step - loss: 0.3348 - accuracy: 0.8606 - val_loss: 0.3643 - val_accuracy: 0.8478\n",
      "Epoch 100/100\n",
      "536/536 [==============================] - 1s 1ms/step - loss: 0.3342 - accuracy: 0.8599 - val_loss: 0.3637 - val_accuracy: 0.8474\n"
     ]
    }
   ],
   "source": [
    "#Fitting the ANN to the training set\n",
    "model_history = classifier.fit(X_train, y_train, validation_split=0.33, batch_size=10, epochs=100)"
   ]
  },
  {
   "cell_type": "code",
   "execution_count": 16,
   "metadata": {},
   "outputs": [
    {
     "name": "stdout",
     "output_type": "stream",
     "text": [
      "dict_keys(['loss', 'accuracy', 'val_loss', 'val_accuracy'])\n"
     ]
    }
   ],
   "source": [
    "print(model_history.history.keys())"
   ]
  },
  {
   "cell_type": "code",
   "execution_count": 17,
   "metadata": {},
   "outputs": [
    {
     "data": {
      "image/png": "[encoded data removed]",
      "text/plain": [
       "<Figure size 864x432 with 1 Axes>"
      ]
     },
     "metadata": {
      "needs_background": "light"
     },
     "output_type": "display_data"
    }
   ],
   "source": [
    "#Summarize history for accuracy\n",
    "from matplotlib.pyplot import figure\n",
    "figure(figsize=(12, 6))\n",
    "plt.plot(model_history.history['accuracy'])\n",
    "plt.plot(model_history.history['val_accuracy'])\n",
    "plt.title('model_accuracy')\n",
    "plt.ylabel('accuracy')\n",
    "plt.xlabel('epoch')\n",
    "plt.legend(['train', 'test'], loc = 'upper left')\n",
    "plt.show()"
   ]
  },
  {
   "cell_type": "code",
   "execution_count": 18,
   "metadata": {},
   "outputs": [],
   "source": [
    "#Making predictions and evaluating the model\n",
    "y_pred = classifier.predict(X_test)"
   ]
  },
  {
   "cell_type": "code",
   "execution_count": 20,
   "metadata": {},
   "outputs": [],
   "source": [
    "y_pred = (y_pred > 0.5)"
   ]
  },
  {
   "cell_type": "code",
   "execution_count": 21,
   "metadata": {},
   "outputs": [],
   "source": [
    "from sklearn.metrics import confusion_matrix\n",
    "cm = confusion_matrix(y_test, y_pred)"
   ]
  },
  {
   "cell_type": "code",
   "execution_count": 22,
   "metadata": {},
   "outputs": [],
   "source": [
    "#Calculate the accuracy\n",
    "from sklearn.metrics import accuracy_score\n",
    "score = accuracy_score(y_pred, y_test)"
   ]
  },
  {
   "cell_type": "code",
   "execution_count": 25,
   "metadata": {},
   "outputs": [
    {
     "name": "stdout",
     "output_type": "stream",
     "text": [
      "[[1530   65]\n",
      " [ 206  199]]\n",
      "0.8645\n"
     ]
    }
   ],
   "source": [
    "print(cm)\n",
    "print(score)"
   ]
  },
  {
   "cell_type": "code",
   "execution_count": null,
   "metadata": {},
   "outputs": [],
   "source": []
  }
 ],
 "metadata": {
  "interpreter": {
   "hash": "b87decb75487e6511b445ce3fef0041e14ab80356b48c15d6f7962641eee0e38"
  },
  "kernelspec": {
   "display_name": "Python 3.8.8 64-bit ('base': conda)",
   "name": "python3"
  },
  "language_info": {
   "codemirror_mode": {
    "name": "ipython",
    "version": 3
   },
   "file_extension": ".py",
   "mimetype": "text/x-python",
   "name": "python",
   "nbconvert_exporter": "python",
   "pygments_lexer": "ipython3",
   "version": "3.8.8"
  },
  "orig_nbformat": 4
 },
 "nbformat": 4,
 "nbformat_minor": 2
}
